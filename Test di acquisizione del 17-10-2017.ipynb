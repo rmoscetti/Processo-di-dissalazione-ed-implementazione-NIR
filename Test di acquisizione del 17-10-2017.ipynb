{
 "cells": [
  {
   "cell_type": "markdown",
   "metadata": {},
   "source": [
    "# Test di acquisizione a differenti flussi (17-10-2017)\n",
    "In data 17-10-2017 sono stati acquisiti spettri NIR in trasmittanza per flussi con portate pari a 0, 33 e 96 mL/min (le unità di misura sono giuste?) per 3 min di acquisizione.\n",
    "\n",
    "L'ordine delle acquisizione è stato il seguente:\n",
    "1. 33 mL/min (36 spettri)\n",
    "2. 96 mL/min (36 spettri)\n",
    "3. 0 mL/min (37 spettri)"
   ]
  },
  {
   "cell_type": "code",
   "execution_count": 1,
   "metadata": {},
   "outputs": [],
   "source": [
    "NIR <- read.csv(\"NIR_spectra_all.csv\", header = T)"
   ]
  },
  {
   "cell_type": "markdown",
   "metadata": {},
   "source": [
    "# Plot degli spettri medi"
   ]
  },
  {
   "cell_type": "code",
   "execution_count": 2,
   "metadata": {},
   "outputs": [
    {
     "data": {
      "image/png": "[encoded data removed]",
      "text/plain": [
       "plot without title"
      ]
     },
     "metadata": {},
     "output_type": "display_data"
    }
   ],
   "source": [
    "options(repr.plot.width=12, repr.plot.height=6, repr.plot.res = 100)\n",
    "NIR.ave <- aggregate(NIR[,3:603], by = list(NIR$Sample), mean)\n",
    "cols <- rainbow(3)\n",
    "x <- seq(1100, 2300, by = 2)\n",
    "plot(x, NIR.ave[1,-1], type = 'l', col = cols[1], axes = F,\n",
    "     xlab = 'Wavelengths (nm)', ylab = 'Transmittance')\n",
    "lines(x, NIR.ave[2,-1], col = cols[2])\n",
    "lines(x, NIR.ave[3,-1], col = cols[3])\n",
    "axis(1, seq(1100, 2300, length.out =  11))\n",
    "axis(2,)\n",
    "box()\n",
    "legend('topright', c('0', '33', '96'), lty = 1, col = cols)"
   ]
  },
  {
   "cell_type": "markdown",
   "metadata": {},
   "source": [
    "Osservazioni:\n",
    "1. Ad occhio non sembrano presenti differenze tra gli spettri medi (quasi perfettamente sovrapponibili)\n",
    "2. La regione spettrale prossima ed oltre i 1940 nm non sembra molto informativa"
   ]
  },
  {
   "cell_type": "markdown",
   "metadata": {},
   "source": [
    "# Confronto tra gli spettri acquisiti ai diversi flussi (tramite PCA)"
   ]
  },
  {
   "cell_type": "code",
   "execution_count": 3,
   "metadata": {},
   "outputs": [
    {
     "data": {
      "image/png": "[encoded data removed]",
      "text/plain": [
       "plot without title"
      ]
     },
     "metadata": {},
     "output_type": "display_data"
    }
   ],
   "source": [
    "options(repr.plot.width=6, repr.plot.height=6, repr.plot.res = 100)\n",
    "pca <- prcomp(NIR[,-c(1:2)], center = T)\n",
    "\n",
    "labels <- as.numeric(as.factor(NIR$Sample))\n",
    "\n",
    "scores <- pca$x\n",
    "loadings <- pca$rotation\n",
    "\n",
    "plot(scores[,1], scores[,2], col = cols[labels], pch = 16, ylim = c(-0.11, 0.11), xlim = c(-0.11, 0.11),\n",
    "     xlab = 'PC1 (79.30%)', ylab = 'PC2 (9.83%)')\n",
    "abline(v = 0, lty = 2, col = 'grey')\n",
    "abline(h = 0, lty = 2, col = 'grey')\n",
    "legend('bottomright', c('0', '33', '96'), pch = 16, col = cols)"
   ]
  },
  {
   "cell_type": "markdown",
   "metadata": {},
   "source": [
    "Osservazioni:\n",
    "1. La PCA mette in evidenza che gran parte della varianza è spiegata dalle prime due PCs (89.13%)\n",
    "2. Sembrano esservi delle differenze ai diversi flussi\n",
    "3. I punti acquisiti durante il flusso a 96 mL/min (blu) presentano una disposizioni a ferro di cavallo (horseshoe effect)"
   ]
  },
  {
   "cell_type": "markdown",
   "metadata": {},
   "source": [
    "# Analisi dei Loadings delle prime due PCs\n",
    "L'approccio seguente consente di capire quali lunghezze d'onda sono responsabili della disposizione dei campini nello spazio 2D definito dalle PCs"
   ]
  },
  {
   "cell_type": "code",
   "execution_count": 4,
   "metadata": {},
   "outputs": [
    {
     "data": {
      "image/png": "[encoded data removed]",
      "text/plain": [
       "plot without title"
      ]
     },
     "metadata": {},
     "output_type": "display_data"
    }
   ],
   "source": [
    "options(repr.plot.width=12, repr.plot.height=6, repr.plot.res = 100)\n",
    "yrange <- c(min(loadings[,c(1:2)]), max(loadings[,c(1:2)]))\n",
    "plot(x, loadings[,1], ylim = yrange, type = 'n',\n",
    "     xlab = 'Wavelengths (nm)', ylab = 'Loadings',  axes = F)\n",
    "abline(h = 0, lty = 2, col = 'grey')\n",
    "lines(x, loadings[,1], col = 'red')\n",
    "lines(x, loadings[,2], col = 'green')\n",
    "axis(1, seq(1100, 2300, length.out =  11))\n",
    "axis(2, round(seq(yrange[1], yrange[2], length.out = 5),2))\n",
    "legend('topright', c('loading #1', 'loading #2'), lty = 1, col = c('red', 'green'))\n",
    "box()"
   ]
  },
  {
   "cell_type": "markdown",
   "metadata": {},
   "source": [
    "Osservazioni:\n",
    "1. I minimi ed i massimi locali descrivono la relazione esistente tra lunghezza d'onda e scores delle PCs\n",
    "2. Minimi e massimi locali tra il 1° ed il 2° loading sono molto somiglianti, pertanto, la idenficiazione dei min/max locali è stata effettuata solo sul 1° loading"
   ]
  },
  {
   "cell_type": "markdown",
   "metadata": {},
   "source": [
    "# Identificazione dei minimi/massimi locali del 1° loading\n",
    "La identificazione dei min/max locali è stata effettuata mediante derivata 1a (D1f) e 2a (D2f) del 1° loading."
   ]
  },
  {
   "cell_type": "code",
   "execution_count": 5,
   "metadata": {},
   "outputs": [
    {
     "name": "stderr",
     "output_type": "stream",
     "text": [
      "Loading required package: prospectr\n",
      "Loading required package: RcppArmadillo\n"
     ]
    },
    {
     "data": {
      "image/png": "[encoded data removed]",
      "text/plain": [
       "plot without title"
      ]
     },
     "metadata": {},
     "output_type": "display_data"
    }
   ],
   "source": [
    "require(prospectr)\n",
    "dev1 <- savitzkyGolay(loadings[,1], p = 2, w = 9, m = 1)\n",
    "dev2 <- savitzkyGolay(loadings[,1], p = 2, w = 9, m = 2)\n",
    "plot(x[5:597], dev1, type = 'l', axes = F, xlab = 'Wavelengths (nm)', ylab = 'Derivative')\n",
    "lines(x[5:597], dev2, type = 'l', lty = 2)\n",
    "abline(h = 0, lty = 2, col = 'grey')\n",
    "axis(1, seq(1108, 2292, length.out = 9))\n",
    "axis(2, round(seq(min(dev1), max(dev1), length.out = 5),4))\n",
    "box()\n",
    "\n",
    "check.dev1 <- 0\n",
    "for (i in 1:(length(dev1))){\n",
    "  check.dev1[i] <- dev1[i]*dev1[i+1]\n",
    "}\n",
    "\n",
    "points.dev1 <- which(check.dev1 < 0)\n",
    "for (i in 1:length(points.dev1)){\n",
    "  points(x[5:597][points.dev1][i], 0, pch = 1, cex = 1.8)\n",
    "  if (dev2[points.dev1][i] < 0) {\n",
    "    points(x[5:597][points.dev1][i], 0, pch = 16, col = 'red')\n",
    "  }\n",
    "  else {\n",
    "    points(x[5:597][points.dev1][i], 0, pch = 16, col = 'blue')\n",
    "  }\n",
    "}\n",
    "\n",
    "legend('bottomright', c('D1f','D2f','Local min','Local max'),\n",
    "       lty = c(1,2,NA,NA), pch = c(NA,NA,16,16), col = c(1,1,4,2), cex = 0.8, bty = 'n')"
   ]
  },
  {
   "cell_type": "code",
   "execution_count": 6,
   "metadata": {},
   "outputs": [
    {
     "data": {
      "image/png": "[encoded data removed]",
      "text/plain": [
       "plot without title"
      ]
     },
     "metadata": {},
     "output_type": "display_data"
    }
   ],
   "source": [
    "x <- seq(1100, 2300, by = 2)\n",
    "yrange <- c(min(loadings[,c(1:2)]), max(loadings[,c(1:2)]))\n",
    "plot(x, loadings[,1], ylim = yrange, type = 'n',\n",
    "     xlab = 'Wavelengths (nm)', ylab = 'Loadings',  axes = F)\n",
    "abline(h = 0, lty = 2, col = 'grey')\n",
    "lines(x, loadings[,1], col = 'red')\n",
    "lines(x, loadings[,2], col = 'green')\n",
    "axis(1, seq(1100, 2300, length.out =  9))\n",
    "axis(2, round(seq(yrange[1], yrange[2], length.out = 5),2))\n",
    "box()\n",
    "\n",
    "for (i in 1:length(points.dev1)){\n",
    "  points(x[points.dev1][i]+8, loadings[points.dev1[i]+4,1], pch = 1, cex = 1.8)\n",
    "  if (dev2[points.dev1][i] < 0) {\n",
    "    points(x[points.dev1][i]+8, loadings[points.dev1[i]+4,1], pch = 16, col = 'red')\n",
    "  }\n",
    "  else {\n",
    "    points(x[points.dev1][i]+8, loadings[points.dev1[i]+4,1], pch = 16, col = 'blue')\n",
    "  }\n",
    "}\n",
    "\n",
    "legend('bottomright', c('loading #1', 'loading #2', 'Local min', 'Local max'), cex = 0.8,\n",
    "       lty = c(1,1,NA,NA), col = c('red', 'green', 'blue', 'red'), pch = c(NA,NA,16,16))"
   ]
  },
  {
   "cell_type": "markdown",
   "metadata": {},
   "source": [
    "# Biplot degli scores e dei loadings\n",
    "Nel seguente grafico sono riportati tutti gli scores dei campioni e le lunghezze d'onda selezionate mediante D1f e D2f del 1° loading."
   ]
  },
  {
   "cell_type": "code",
   "execution_count": 7,
   "metadata": {},
   "outputs": [
    {
     "data": {
      "image/png": "[encoded data removed]",
      "text/plain": [
       "plot without title"
      ]
     },
     "metadata": {},
     "output_type": "display_data"
    }
   ],
   "source": [
    "options(repr.plot.width=6, repr.plot.height=6, repr.plot.res = 100)\n",
    "plot(scores[,1], scores[,2], col = cols[labels], pch = 16, ylim = c(-0.15, 0.15), xlim = c(-0.15, 0.15),\n",
    "     xlab = 'PC1 (79.30%)', ylab = 'PC2 (9.83%)')\n",
    "points(loadings[points.dev1+4,1], loadings[points.dev1+4,2], pch = 4)\n",
    "text(loadings[points.dev1+4,1], loadings[points.dev1+4,2]+0.006, x[points.dev1+4], pch = 4, cex = 0.6)\n",
    "abline(v = 0, lty = 2, col = 'grey')\n",
    "abline(h = 0, lty = 2, col = 'grey')\n",
    "legend('bottomright', c('0', '33', '96', 'wavelenght'), pch = c(16,16,16,4), col = c(cols, 1), cex = 0.8)"
   ]
  },
  {
   "cell_type": "markdown",
   "metadata": {},
   "source": [
    "Osservazioni:\n",
    "1. Le lunghezze d'onda circa pari a 1138, 1248, 1374, 1646 ed, in mimina parte, 1846 e 2180 nm sono le principali responsabili del pattern osservato\n",
    "2. Le altre lunghezze d'onda selezionate (disposte all'incrocio degli assi cartesiani) sembrano avere un effetto trascurabile"
   ]
  },
  {
   "cell_type": "markdown",
   "metadata": {},
   "source": [
    "# Test di rimozione dell'effetto di scattering\n",
    "Di seguito è ripetuta l'analisi precedente, andando però a rimuovere un possibile effetto scattering presente negli spettri dei campioni. L'intento è quello di capire se le variazioni di flusso sono responsabili delle differenze osservate."
   ]
  },
  {
   "cell_type": "markdown",
   "metadata": {},
   "source": [
    "# Analisi PCA\n",
    "La PCA è stata rieffettuata sul nuovo dataset, in cui appunto l'effetto scattering è stato rimosso tramite l'algoritmo SNV (Standard Normal Variate)."
   ]
  },
  {
   "cell_type": "code",
   "execution_count": 8,
   "metadata": {},
   "outputs": [],
   "source": [
    "NIR[,-c(1:2)] <- standardNormalVariate(X = NIR[,-c(1:2)])"
   ]
  },
  {
   "cell_type": "code",
   "execution_count": 9,
   "metadata": {},
   "outputs": [
    {
     "data": {
      "image/png": "[encoded data removed]",
      "text/plain": [
       "plot without title"
      ]
     },
     "metadata": {},
     "output_type": "display_data"
    }
   ],
   "source": [
    "options(repr.plot.width=6, repr.plot.height=6, repr.plot.res = 100)\n",
    "pca <- prcomp(NIR[,-c(1:2)], center = T)\n",
    "labels <- as.numeric(as.factor(NIR$Sample))\n",
    "\n",
    "scores <- pca$x\n",
    "loadings <- pca$rotation\n",
    "\n",
    "plot(scores[,1], scores[,2], col = cols[labels], pch = 16, ylim = c(-0.13, 0.13), xlim = c(-0.13, 0.13),\n",
    "     xlab = 'PC1 (84.57.30%)', ylab = 'PC2 (3.71%)')\n",
    "abline(v = 0, lty = 2, col = 'grey')\n",
    "abline(h = 0, lty = 2, col = 'grey')\n",
    "legend('bottomright', c('0', '33', '96'), pch = 16, col = cols)"
   ]
  },
  {
   "cell_type": "markdown",
   "metadata": {},
   "source": [
    "Osservazioni:\n",
    "1. L'horseshoe effect sembra essere stato rimosso grazie all'impiego del pretrattamento SNV\n",
    "2. La disposizione dei punti nello spazio è ovviamente cambiata, ma mostra lo stesso pattern precedentemente osservato\n",
    "3. La varianza totale spiegata dalla prime due PCs è pari all'88.28% (leggermente inferiore al caso precedente; variazione non rilevante)\n",
    "4. La varianza spiegata dalla PC1 è salita dal 79.30% al 84.57%\n",
    "5. La varianza spiegata dalla PC2 è scesa dal 9.83% al 3.71%"
   ]
  },
  {
   "cell_type": "markdown",
   "metadata": {},
   "source": [
    "# Identificazione dei minimi/massimi locali del 1° loading"
   ]
  },
  {
   "cell_type": "code",
   "execution_count": 10,
   "metadata": {},
   "outputs": [],
   "source": [
    "dev1 <- savitzkyGolay(loadings[,1], p = 2, w = 9, m = 1)\n",
    "dev2 <- savitzkyGolay(loadings[,1], p = 2, w = 9, m = 2)\n",
    "\n",
    "check.dev1 <- 0\n",
    "for (i in 1:(length(dev1))){\n",
    "  check.dev1[i] <- dev1[i]*dev1[i+1]\n",
    "}\n",
    "\n",
    "points.dev1 <- which(check.dev1 < 0)"
   ]
  },
  {
   "cell_type": "markdown",
   "metadata": {},
   "source": [
    "# Biplot degli scores e dei loadings (spettri pretrattati con SNV)"
   ]
  },
  {
   "cell_type": "code",
   "execution_count": 11,
   "metadata": {},
   "outputs": [
    {
     "data": {
      "image/png": "[encoded data removed]",
      "text/plain": [
       "plot without title"
      ]
     },
     "metadata": {},
     "output_type": "display_data"
    }
   ],
   "source": [
    "options(repr.plot.width=6, repr.plot.height=6, repr.plot.res = 100)\n",
    "plot(scores[,1], scores[,2], col = cols[labels], pch = 16, ylim = c(-0.15, 0.15), xlim = c(-0.15, 0.15),\n",
    "     xlab = 'PC1 (84.57.30%)', ylab = 'PC2 (3.71%)')\n",
    "points(loadings[points.dev1+4,1], loadings[points.dev1+4,2], pch = 4)\n",
    "text(loadings[points.dev1+4,1], loadings[points.dev1+4,2]+0.006, x[points.dev1+4], pch = 4, cex = 0.6)\n",
    "abline(v = 0, lty = 2, col = 'grey')\n",
    "abline(h = 0, lty = 2, col = 'grey')\n",
    "legend('bottomright', c('0', '33', '96', 'feature'), pch = c(16,16,16,4), col = c(cols, 1), cex = 0.8)"
   ]
  },
  {
   "cell_type": "markdown",
   "metadata": {},
   "source": [
    "Osservazioni:\n",
    "1. Le lunghezze d'onda selezionate sono circa le stesse osservate in precedenza (1140, 1254, 1376, 1646, 1848 e 2180 nm)\n",
    "2. E' possibile escludere che sia un effetto scattering dovuto ad un differente flusso la causa delle differenze osservate"
   ]
  },
  {
   "cell_type": "markdown",
   "metadata": {},
   "source": [
    "# Può essere un problema legato alla temperatura della lampada?\n",
    "L'indagine di seguito riportata è stata effettuata per verificare se la disposizione nei punti varia al variare dell'ora di acquisizione. Tenendo presente che l'ordine di acquisizione è stato 33, 96 e 0 mL/min per un totale di 109 spettri, è stata creata una rampa di colori di 110 elementi."
   ]
  },
  {
   "cell_type": "code",
   "execution_count": 12,
   "metadata": {},
   "outputs": [
    {
     "data": {
      "image/png": "[encoded data removed]",
      "text/plain": [
       "Plot with title \"n = 110\""
      ]
     },
     "metadata": {},
     "output_type": "display_data"
    }
   ],
   "source": [
    "options(repr.plot.width=6, repr.plot.height=1, repr.plot.res = 100)\n",
    "par(mai=c(0.3, 0, 0.3, 0), bg = \"grey85\")\n",
    "r.grid <- layout(matrix(c(1), nrow = 1))\n",
    "cols <- rainbow(110)\n",
    "barplot(rep(2, 110), axes = FALSE, space = 0, col = cols, main = 'n = 110')"
   ]
  },
  {
   "cell_type": "markdown",
   "metadata": {},
   "source": [
    "Osservazioni:\n",
    "1. alla colorazione rossa (primo elemento a sinistra della rampa) corrisponderà il primo campione\n",
    "2. alla colorazione viola, tendente al rosso (ultimo elemento della rampa), corrisponderà l'ultimo campione\n",
    "3. alle colorazioni intermedie corrisponderanno tutti gli altri campione, disposti secondo l'ordine di acquisizione"
   ]
  },
  {
   "cell_type": "markdown",
   "metadata": {},
   "source": [
    "# Score plot e tempo di acquisizione"
   ]
  },
  {
   "cell_type": "code",
   "execution_count": 13,
   "metadata": {},
   "outputs": [
    {
     "data": {
      "image/png": "[encoded data removed]",
      "text/plain": [
       "plot without title"
      ]
     },
     "metadata": {},
     "output_type": "display_data"
    }
   ],
   "source": [
    "options(repr.plot.width=6, repr.plot.height=6, repr.plot.res = 100)\n",
    "n0 <- scores[1:37,]\n",
    "n33 <- scores[38:74,]\n",
    "n96 <- scores[75:109,]\n",
    "nscores <- rbind(n33, n96, n0)\n",
    "plot(nscores[,1], nscores[,2], col = cols, pch = c(rep(16, 36), rep(17,36), rep(18,37)),\n",
    "     ylim = c(-0.13, 0.13), xlim = c(-0.13, 0.13),\n",
    "     xlab = 'PC1 (84.57.30%)', ylab = 'PC2 (3.71%)')\n",
    "abline(v = 0, lty = 2, col = 'grey')\n",
    "abline(h = 0, lty = 2, col = 'grey')\n",
    "legend('bottomright', c('33', '96', '0'), pch = c(16,17,18), cex = 0.8)"
   ]
  },
  {
   "cell_type": "markdown",
   "metadata": {},
   "source": [
    "Osservazioni:\n",
    "1. le acquisizioni seguono il colore della rampa\n",
    "2. vi è un chiaro effetto del tempo di acquisizione e quindi, probabilmente, della temperatura della lampada\n",
    "2. è forse ipotizzabile che l'effetto osservato possa essere trascurabile durante le prove in-line"
   ]
  }
 ],
 "metadata": {
  "kernelspec": {
   "display_name": "R",
   "language": "R",
   "name": "ir"
  },
  "language_info": {
   "codemirror_mode": "r",
   "file_extension": ".r",
   "mimetype": "text/x-r-source",
   "name": "R",
   "pygments_lexer": "r",
   "version": "3.4.2"
  }
 },
 "nbformat": 4,
 "nbformat_minor": 2
}
